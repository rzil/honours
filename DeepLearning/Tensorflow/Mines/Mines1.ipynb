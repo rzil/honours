{
 "cells": [
  {
   "cell_type": "code",
   "execution_count": null,
   "metadata": {},
   "outputs": [],
   "source": [
    "# Import libraries for simulation\n",
    "import tensorflow as tf\n",
    "import numpy as np"
   ]
  },
  {
   "cell_type": "code",
   "execution_count": null,
   "metadata": {
    "collapsed": true
   },
   "outputs": [],
   "source": [
    "dimensions = (12,12)\n",
    "mineProbability = 0.2"
   ]
  },
  {
   "cell_type": "code",
   "execution_count": null,
   "metadata": {
    "collapsed": true
   },
   "outputs": [],
   "source": [
    "# count the number of mines in the proximity of given square, including square itself\n",
    "def countMines(board,r,c):\n",
    "    count = 0\n",
    "    rows, cols = board.shape\n",
    "    for i in [r-1,r,r+1]:\n",
    "        if i >= 0 and i < rows:\n",
    "            for j in [c-1,c,c+1]:\n",
    "                if j >= 0 and j < cols:\n",
    "                    count += int(board[i,j])\n",
    "    return count"
   ]
  },
  {
   "cell_type": "code",
   "execution_count": null,
   "metadata": {
    "collapsed": true
   },
   "outputs": [],
   "source": [
    "# Converts a board of mines into a board of mine counts\n",
    "def boardMineCounts(board):\n",
    "    mineInfo = np.zeros(board.shape, dtype = int)\n",
    "    rows, cols = board.shape\n",
    "    for i in range(rows):\n",
    "        for j in range(cols):\n",
    "            mineInfo[i,j] = countMines(board,i,j)\n",
    "    return mineInfo"
   ]
  },
  {
   "cell_type": "code",
   "execution_count": null,
   "metadata": {},
   "outputs": [],
   "source": [
    "'''\n",
    "def boardPartialMineCounts(board):\n",
    "    result = boardMineCounts(board)\n",
    "    for index, x in np.ndenumerate(board):\n",
    "        if x: result[index] = -1\n",
    "        elif r.uniform(0, 1) < missingProbability: result[index] = -1\n",
    "    return result\n",
    "'''"
   ]
  },
  {
   "cell_type": "code",
   "execution_count": null,
   "metadata": {
    "collapsed": true
   },
   "outputs": [],
   "source": [
    "# Generates a random training batch of size n\n",
    "def next_training_batch(n):\n",
    "    batch_xs = []\n",
    "    batch_ys = []\n",
    "    for _ in range(n):\n",
    "        board = np.random.random(dimensions) < mineProbability\n",
    "        counts = boardMineCounts(board)\n",
    "        batch_xs.append(counts.flatten().astype(float))\n",
    "        batch_ys.append(board.flatten().astype(float))\n",
    "    return (np.asarray(batch_xs), np.asarray(batch_ys))"
   ]
  },
  {
   "cell_type": "code",
   "execution_count": null,
   "metadata": {
    "collapsed": true
   },
   "outputs": [],
   "source": [
    "# Create the model\n",
    "rows, cols = dimensions\n",
    "size = rows*cols\n",
    "x = tf.placeholder(tf.float32, [None, size])\n",
    "W = tf.Variable(tf.random_normal([size, size], stddev=0.01))\n",
    "b = tf.Variable(tf.random_normal([size], stddev=0.01))\n",
    "y = tf.sigmoid(tf.matmul(x, W) + b)"
   ]
  },
  {
   "cell_type": "code",
   "execution_count": null,
   "metadata": {
    "collapsed": true
   },
   "outputs": [],
   "source": [
    "# Placeholder for the 'labels', ie the correct answer\n",
    "y_ = tf.placeholder(tf.float32, [None, size])"
   ]
  },
  {
   "cell_type": "code",
   "execution_count": null,
   "metadata": {
    "collapsed": true
   },
   "outputs": [],
   "source": [
    "# Loss function\n",
    "mean_squared_error = tf.losses.mean_squared_error(labels=y_, predictions=y)"
   ]
  },
  {
   "cell_type": "code",
   "execution_count": null,
   "metadata": {
    "collapsed": true
   },
   "outputs": [],
   "source": [
    "# Summaries for tensorboard\n",
    "with tf.name_scope('W_reshape'):\n",
    "    image_shaped_W = tf.reshape(W, [-1, size, size, 1])\n",
    "    tf.summary.image('W', image_shaped_W, 1000)\n",
    "\n",
    "with tf.name_scope('b_reshape'):\n",
    "    image_shaped_b = tf.reshape(-b, [-1, rows, cols, 1])\n",
    "    tf.summary.image('b', image_shaped_b, 1000)\n",
    "\n",
    "_ = tf.summary.scalar('accuracy', mean_squared_error)"
   ]
  },
  {
   "cell_type": "code",
   "execution_count": null,
   "metadata": {
    "collapsed": true
   },
   "outputs": [],
   "source": [
    "# Optimiser\n",
    "train_step = tf.train.AdamOptimizer().minimize(mean_squared_error)"
   ]
  },
  {
   "cell_type": "code",
   "execution_count": null,
   "metadata": {
    "collapsed": true
   },
   "outputs": [],
   "source": [
    "# Create session and initialise or restore stuff\n",
    "saver = tf.train.Saver({\"W\": W, \"b\": b})\n",
    "\n",
    "sess = tf.InteractiveSession()\n",
    "\n",
    "merged = tf.summary.merge_all()\n",
    "writer = tf.summary.FileWriter('.', sess.graph)\n",
    "tf.global_variables_initializer().run()"
   ]
  },
  {
   "cell_type": "code",
   "execution_count": null,
   "metadata": {
    "collapsed": true
   },
   "outputs": [],
   "source": [
    "# Restore model?\n",
    "#saver.restore(sess, \"./saves1/model-100000\")"
   ]
  },
  {
   "cell_type": "code",
   "execution_count": null,
   "metadata": {},
   "outputs": [],
   "source": [
    "# Train\n",
    "for iteration in range(100001):\n",
    "    batch_xs, batch_ys = next_training_batch(100)\n",
    "    summary, _ = sess.run([merged, train_step], feed_dict={x: batch_xs, y_: batch_ys})\n",
    "    writer.add_summary(summary, iteration)\n",
    "    if iteration % 100 == 0:\n",
    "        acc = sess.run(mean_squared_error, feed_dict={x: batch_xs, y_: batch_ys})\n",
    "        print('Accuracy at step %s: %s' % (iteration, acc))\n",
    "    if iteration % 1000 == 0:\n",
    "        save_path = saver.save(sess, './saves1/model', global_step=iteration)\n",
    "        print(\"Model saved in file: %s\" % save_path)"
   ]
  },
  {
   "cell_type": "code",
   "execution_count": null,
   "metadata": {
    "collapsed": true
   },
   "outputs": [],
   "source": [
    "# Test trained model\n",
    "batch_xs, batch_ys = next_training_batch(1000)\n",
    "print(sess.run(mean_squared_error, feed_dict={x: batch_xs, y_: batch_ys}))"
   ]
  },
  {
   "cell_type": "code",
   "execution_count": null,
   "metadata": {
    "collapsed": true
   },
   "outputs": [],
   "source": [
    "# Run a single randomised test\n",
    "mineCounts, mines = next_training_batch(1)\n",
    "\n",
    "print(\"mines\")\n",
    "print(mines.astype(int).reshape(dimensions))\n",
    "\n",
    "print(\"predicted mines\")\n",
    "result = sess.run(y, feed_dict={x: mineCounts})\n",
    "predictions = (result > 0.5).astype(int)\n",
    "print(predictions.reshape(dimensions))\n",
    "\n",
    "print(\"errors\")\n",
    "print((predictions != mines.astype(int)).astype(int).sum())\n",
    "\n",
    "print(\"----\")\n",
    "\n",
    "print(\"mine counts\")\n",
    "print(mineCounts.astype(int).reshape(dimensions))\n",
    "\n",
    "print(\"predicted mine counts\")\n",
    "print(boardMineCounts(predictions.reshape(dimensions)))\n",
    "\n",
    "print(\"errors\")\n",
    "print((mineCounts.astype(int).reshape(dimensions) != boardMineCounts(predictions.reshape(dimensions))).astype(int).sum())"
   ]
  },
  {
   "cell_type": "code",
   "execution_count": null,
   "metadata": {
    "collapsed": true
   },
   "outputs": [],
   "source": [
    "print(sess.run(-b))"
   ]
  },
  {
   "cell_type": "code",
   "execution_count": null,
   "metadata": {
    "collapsed": true
   },
   "outputs": [],
   "source": []
  }
 ],
 "metadata": {
  "kernelspec": {
   "display_name": "Python 3",
   "language": "python",
   "name": "python3"
  },
  "language_info": {
   "codemirror_mode": {
    "name": "ipython",
    "version": 3
   },
   "file_extension": ".py",
   "mimetype": "text/x-python",
   "name": "python",
   "nbconvert_exporter": "python",
   "pygments_lexer": "ipython3",
   "version": "3.6.3"
  }
 },
 "nbformat": 4,
 "nbformat_minor": 2
}
